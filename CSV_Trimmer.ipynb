{
  "nbformat": 4,
  "nbformat_minor": 0,
  "metadata": {
    "colab": {
      "provenance": []
    },
    "kernelspec": {
      "name": "python3",
      "display_name": "Python 3"
    },
    "language_info": {
      "name": "python"
    }
  },
  "cells": [
    {
      "cell_type": "markdown",
      "source": [
        "# CSV Trimemer\n",
        "CSV Trimmer\" is a script designed to extract and filter specific columns from CSV (Comma-Separated Values) files. This tool automates the process of reading CSV data, selecting designated columns, and creating a new CSV file containing only the selected columns. It simplifies data preprocessing tasks by allowing users to efficiently trim down CSV datasets based on their requirements.\n",
        "\n",
        "\n",
        "[![Open In GitHub](https://img.shields.io/badge/-Open%20in%20GitHub-black?style=flat-square&logo=github)](https://github.com/korentmaj/CSVTrimmer)"
      ],
      "metadata": {
        "id": "3zi5qDGu0SHv"
      }
    },
    {
      "cell_type": "code",
      "execution_count": null,
      "metadata": {
        "id": "3wWhE6prz9IX"
      },
      "outputs": [],
      "source": [
        "import pandas as pd\n",
        "import numpy as np\n",
        "\n",
        "import os\n",
        "import zipfile\n",
        "\n",
        "import csv"
      ]
    },
    {
      "cell_type": "markdown",
      "source": [
        "# UPLOAD ZIP FILE\n",
        "**Please DEFINE THE PATH:**"
      ],
      "metadata": {
        "id": "x9hzWAWh0gq2"
      }
    },
    {
      "cell_type": "code",
      "source": [
        "zip_path = 'SET THE PATH OF YOUR ZIP THAT YOU HAVE UPLOADED' # Ensure path is correct\n",
        "output_dir = '/content/unzipped_data' # Output directory within Colab environment\n",
        "\n",
        "# Create the output directory if it doesn't exist\n",
        "if not os.path.exists(output_dir):\n",
        "    os.makedirs(output_dir)\n",
        "\n",
        "# Unzip the file\n",
        "try:\n",
        "    with zipfile.ZipFile(zip_path, 'r') as zip_ref:\n",
        "        zip_ref.extractall(output_dir)\n",
        "    print(\"Unzipping completed successfully.\")\n",
        "except FileNotFoundError:\n",
        "    print(\"The zip file was not found. Check the path.\")\n",
        "except Exception as e:\n",
        "    print(f\"An error occurred: {e}\")\n"
      ],
      "metadata": {
        "id": "GxLy3sqb0iEA"
      },
      "execution_count": null,
      "outputs": []
    },
    {
      "cell_type": "markdown",
      "source": [
        "# UNZIP THE FILE"
      ],
      "metadata": {
        "id": "R3gU1-7U0zKp"
      }
    },
    {
      "cell_type": "code",
      "source": [
        "import zipfile\n",
        "import os\n",
        "\n",
        "zip_path = 'gz_decals_dr5_png_part1.zip'\n",
        "extract_to = '/content/temp_extracted'  # Temporary extraction directory\n",
        "\n",
        "os.makedirs(extract_to, exist_ok=True)\n",
        "\n",
        "with zipfile.ZipFile(zip_path, 'r') as zip_ref:\n",
        "    # Extract all files with progress information\n",
        "    for member in zip_ref.infolist():\n",
        "        print(f\"Extracting: {member.filename}\")\n",
        "        zip_ref.extract(member, extract_to)\n",
        "print(\"Extraction completed.\")"
      ],
      "metadata": {
        "id": "r3D2brXn08Tf"
      },
      "execution_count": null,
      "outputs": []
    },
    {
      "cell_type": "code",
      "source": [
        "print(os.listdir(output_dir)) # Show directoryes"
      ],
      "metadata": {
        "id": "16jHtwhV1BLZ"
      },
      "execution_count": null,
      "outputs": []
    },
    {
      "cell_type": "markdown",
      "source": [
        "READ THE CSV\n",
        "\n",
        "\n",
        "**Please DEFINE THE PATH:**"
      ],
      "metadata": {
        "id": "3y3Ky0s7084O"
      }
    },
    {
      "cell_type": "code",
      "source": [
        "# Define the path to your CSV file\n",
        "file_path = '/content/drive/MyDrive/research/gz_decals_auto_posteriors.csv'"
      ],
      "metadata": {
        "id": "JoQcpzFE1R7a"
      },
      "execution_count": null,
      "outputs": []
    },
    {
      "cell_type": "markdown",
      "source": [
        "Reading and Displaying the First Line of a CSV File"
      ],
      "metadata": {
        "id": "EcRBqamM1cDo"
      }
    },
    {
      "cell_type": "code",
      "source": [
        "# Open the file and read a single line\n",
        "with open(file_path, 'r') as file:\n",
        "    reader = csv.reader(file)\n",
        "    for row in reader:\n",
        "        print(row)  # Print the first row\n",
        "        break"
      ],
      "metadata": {
        "id": "MTwuPd-21WiN"
      },
      "execution_count": null,
      "outputs": []
    },
    {
      "cell_type": "markdown",
      "source": [
        "Reading and Displaying the First Data Row of a CSV File"
      ],
      "metadata": {
        "id": "iZ1oN7U31fHx"
      }
    },
    {
      "cell_type": "code",
      "source": [
        "with open(file_path, 'r') as file:\n",
        "    reader = csv.reader(file)\n",
        "    next(reader)  # Skip the header row\n",
        "    for row in reader:\n",
        "        print(row)  # Print the first line of data\n",
        "        break\n"
      ],
      "metadata": {
        "id": "izsrV33a1fhK"
      },
      "execution_count": null,
      "outputs": []
    },
    {
      "cell_type": "markdown",
      "source": [
        "# Filtering CSV Columns"
      ],
      "metadata": {
        "id": "l1e9fNQp1rgS"
      }
    },
    {
      "cell_type": "code",
      "source": [
        "riginal_csv_path = '/content/drive/MyDrive/research/gz_decals_auto_posteriors.csv'\n",
        "filtered_csv_path = '/content/drive/MyDrive/research/filtered_gz_decals_auto_posteriors.csv'\n",
        "\n",
        "# Define the columns to keep\n",
        "columns_to_keep = [\n",
        "    'example1',\n",
        "    'example2',\n",
        "]\n",
        "\n",
        "\n",
        "# Open the original CSV file to read and a new CSV file to write\n",
        "with open(original_csv_path, mode='r') as infile, open(filtered_csv_path, mode='w', newline='') as outfile:\n",
        "    # Create reader and writer objects\n",
        "    reader = csv.DictReader(infile)\n",
        "    writer = csv.DictWriter(outfile, fieldnames=columns_to_keep)\n",
        "\n",
        "    # Write the header to the new CSV\n",
        "    writer.writeheader()\n",
        "\n",
        "    # Process each row in the original CSV\n",
        "    for row in reader:\n",
        "        # Filter out the row to keep only the necessary columns\n",
        "        filtered_row = {key: row[key] for key in columns_to_keep}\n",
        "        # Write the filtered row to the new CSV\n",
        "        writer.writerow(filtered_row)\n",
        "\n",
        "print(\"Filtered CSV file has been created.\")\n"
      ],
      "metadata": {
        "id": "6GpUk5gQ1tRh"
      },
      "execution_count": null,
      "outputs": []
    },
    {
      "cell_type": "markdown",
      "source": [
        "Display your new csv"
      ],
      "metadata": {
        "id": "tPZuD58x1-Lz"
      }
    },
    {
      "cell_type": "code",
      "source": [
        "import pandas as pd\n",
        "\n",
        "# Path to the filtered CSV file\n",
        "filtered_csv_path = '/content/drive/MyDrive/research/filtered_gz_decals_auto_posteriors.csv'\n",
        "\n",
        "# Load the first line of the CSV file into a DataFrame\n",
        "df = pd.read_csv(filtered_csv_path, nrows=1)\n",
        "\n",
        "# Display the DataFrame\n",
        "display(df)"
      ],
      "metadata": {
        "id": "7iabA0wm2BBV"
      },
      "execution_count": null,
      "outputs": []
    },
    {
      "cell_type": "markdown",
      "source": [
        "THATS IT :)"
      ],
      "metadata": {
        "id": "UgmclQqZ2IJo"
      }
    }
  ]
}